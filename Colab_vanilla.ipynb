{
  "nbformat": 4,
  "nbformat_minor": 0,
  "metadata": {
    "colab": {
      "name": "tensorflowc.ipynb",
      "provenance": [],
      "collapsed_sections": []
    },
    "kernelspec": {
      "name": "python3",
      "display_name": "Python 3"
    }
  },
  "cells": [
    {
      "cell_type": "code",
      "metadata": {
        "id": "gQs4BFez9CS9",
        "colab_type": "code",
        "colab": {}
      },
      "source": [
        "import tensorflow.compat.v1 as tf\n",
        "from keras.datasets import fashion_mnist\n",
        "((X,y), (Xtest, ytest)) = fashion_mnist.load_data()\n"
      ],
      "execution_count": 0,
      "outputs": []
    },
    {
      "cell_type": "code",
      "metadata": {
        "id": "hkupEdE69Zsk",
        "colab_type": "code",
        "colab": {}
      },
      "source": [
        "X.shape\n",
        "\n"
      ],
      "execution_count": 0,
      "outputs": []
    },
    {
      "cell_type": "code",
      "metadata": {
        "id": "88iaB0hs580f",
        "colab_type": "code",
        "colab": {}
      },
      "source": [
        "ytest.shape"
      ],
      "execution_count": 0,
      "outputs": []
    },
    {
      "cell_type": "code",
      "metadata": {
        "id": "P8deMNeMtcfM",
        "colab_type": "code",
        "colab": {}
      },
      "source": [
        "import matplotlib.pyplot as plt"
      ],
      "execution_count": 0,
      "outputs": []
    },
    {
      "cell_type": "code",
      "metadata": {
        "id": "ZtxjzNMiR_j0",
        "colab_type": "code",
        "colab": {}
      },
      "source": [
        "plt.imshow(X[45],cmap='gray')"
      ],
      "execution_count": 0,
      "outputs": []
    },
    {
      "cell_type": "code",
      "metadata": {
        "id": "C1afkFy3TQlf",
        "colab_type": "code",
        "colab": {}
      },
      "source": [
        "from tensorflow import keras"
      ],
      "execution_count": 0,
      "outputs": []
    },
    {
      "cell_type": "code",
      "metadata": {
        "id": "KpUQ2y-sC4Gd",
        "colab_type": "code",
        "colab": {}
      },
      "source": [
        "model = keras.models.Sequential([\n",
        "    keras.layers.Flatten(),\n",
        "    keras.layers.Dense(100, activation='relu'),\n",
        "    keras.layers.Dense(10, activation='softmax')\n",
        "])\n"
      ],
      "execution_count": 0,
      "outputs": []
    },
    {
      "cell_type": "code",
      "metadata": {
        "id": "wvXY3a5NUApM",
        "colab_type": "code",
        "colab": {}
      },
      "source": [
        "model.compile(optimizer=tf.train.AdamOptimizer(), \n",
        "              loss='sparse_categorical_crossentropy',\n",
        "              metrics=['accuracy'])"
      ],
      "execution_count": 0,
      "outputs": []
    },
    {
      "cell_type": "code",
      "metadata": {
        "id": "MZRhOX16Y3kq",
        "colab_type": "code",
        "colab": {}
      },
      "source": [
        "y"
      ],
      "execution_count": 0,
      "outputs": []
    },
    {
      "cell_type": "code",
      "metadata": {
        "id": "lIRi6Zt1TIuE",
        "colab_type": "code",
        "colab": {}
      },
      "source": [
        "#Change the pixel intensities to continuous variables\n",
        "Xtest=Xtest/255\n",
        "X=X/255"
      ],
      "execution_count": 0,
      "outputs": []
    },
    {
      "cell_type": "code",
      "metadata": {
        "id": "nCeWomKuULO2",
        "colab_type": "code",
        "colab": {}
      },
      "source": [
        "#Fit the model using X and y data. \n",
        "##One Epoch is when an ENTIRE dataset is passed forward and backward\n",
        "#through the neural network only ONCE. The epoch is set to 20. \n",
        "##Since one epoch is too big to feed to the computer at once,\n",
        "#we divide it to several smaller batches.\n",
        "##The batch size means the number of samples in each batch. Here we set it to 100.\n",
        "##verbose means how much to show the results of algorithm\n",
        "\n",
        "model.fit(X,y,batch_size=50,epochs=10,verbose=2,validation_split=0.1)\n"
      ],
      "execution_count": 0,
      "outputs": []
    },
    {
      "cell_type": "code",
      "metadata": {
        "id": "U0JBl9mFGmG9",
        "colab_type": "code",
        "colab": {}
      },
      "source": [
        "\n",
        "#Compute the testing accuracy \n",
        "yhat=model.predict(Xtest)#Compute the fitted values (probabilities of classes)"
      ],
      "execution_count": 0,
      "outputs": []
    },
    {
      "cell_type": "code",
      "metadata": {
        "id": "4eMimRJrb1lZ",
        "colab_type": "code",
        "colab": {}
      },
      "source": [
        "model.evaluate(Xtest,ytest,verbose=2)"
      ],
      "execution_count": 0,
      "outputs": []
    }
  ]
}